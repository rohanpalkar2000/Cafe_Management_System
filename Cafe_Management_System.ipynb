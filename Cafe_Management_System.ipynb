{
  "nbformat": 4,
  "nbformat_minor": 0,
  "metadata": {
    "colab": {
      "provenance": []
    },
    "kernelspec": {
      "name": "python3",
      "display_name": "Python 3"
    },
    "language_info": {
      "name": "python"
    }
  },
  "cells": [
    {
      "cell_type": "markdown",
      "source": [
        "**Cafe Management System**"
      ],
      "metadata": {
        "id": "fTqBBtx5RANs"
      }
    },
    {
      "cell_type": "markdown",
      "source": [
        "This project simulates a simple text-based restaurant ordering system. It allows customers to place orders for various items from a predefined menu, handles the addition of multiple items, and calculates the total cost of the order."
      ],
      "metadata": {
        "id": "lfzw_mTjRIa7"
      }
    },
    {
      "cell_type": "code",
      "execution_count": 1,
      "metadata": {
        "id": "SgsLmaGRQ2hB"
      },
      "outputs": [],
      "source": [
        "#Item list available in restaurant\n",
        "menu = {\n",
        "    'pizza': 100, 'pasta': 70, 'burger': 100, 'coffee': 70, 'tea': 30, 'franky': 50, 'cold_drink': 100,\n",
        "    'ice_cream': 50,\n",
        "}"
      ]
    },
    {
      "cell_type": "code",
      "source": [
        "print(\"Welcome to Rohan's Restaurant\")\n",
        "print(\"Pizza: Rs100 \\nPasta: Rs70 \\nBurger: Rs100 \\nCoffee: Rs70 \\nTea: Rs30 \\nfranky: Rs50\")\n",
        "print(\"cold_coffee: Rs100 \\nice_cream: Rs50\")"
      ],
      "metadata": {
        "colab": {
          "base_uri": "https://localhost:8080/"
        },
        "id": "AGax7YDHRoQI",
        "outputId": "9f4c00e6-3c04-48c1-8468-e36ee2a2fadb"
      },
      "execution_count": 2,
      "outputs": [
        {
          "output_type": "stream",
          "name": "stdout",
          "text": [
            "Welcome to Rohan's Restaurant\n",
            "Pizza: Rs100 \n",
            "Pasta: Rs70 \n",
            "Burger: Rs100 \n",
            "Coffee: Rs70 \n",
            "Tea: Rs30 \n",
            "franky: Rs50\n",
            "cold_coffee: Rs100 \n",
            "ice_cream: Rs50\n"
          ]
        }
      ]
    },
    {
      "cell_type": "code",
      "source": [
        "order_total = 0\n",
        "order_items = []\n",
        "\n",
        "while True:\n",
        "    item = input(\"Enter the name of the item you want to order (or type 'done' to finish): \").lower()\n",
        "    if item == 'done':\n",
        "        break\n",
        "    if item in menu:\n",
        "        order_total += menu[item]\n",
        "        order_items.append(item)\n",
        "        print(f\"Your item {item} has been added to your order.\")\n",
        "    else:\n",
        "        print(f\"Ordered item {item} is not available yet!\")\n",
        "\n",
        "print(f\"Your order items: {', '.join(order_items)}\")\n",
        "print(f\"The total amount to pay is Rs{order_total}\")"
      ],
      "metadata": {
        "colab": {
          "base_uri": "https://localhost:8080/"
        },
        "id": "a6ChESs9RqM6",
        "outputId": "23f3329f-be0e-46f2-e881-4a145f053707"
      },
      "execution_count": 4,
      "outputs": [
        {
          "output_type": "stream",
          "name": "stdout",
          "text": [
            "Enter the name of the item you want to order (or type 'done' to finish): pizza\n",
            "Your item pizza has been added to your order.\n",
            "Enter the name of the item you want to order (or type 'done' to finish): coffee\n",
            "Your item coffee has been added to your order.\n",
            "Enter the name of the item you want to order (or type 'done' to finish): pasta\n",
            "Your item pasta has been added to your order.\n",
            "Enter the name of the item you want to order (or type 'done' to finish): burger\n",
            "Your item burger has been added to your order.\n",
            "Enter the name of the item you want to order (or type 'done' to finish): done\n",
            "Your order items: pizza, coffee, pasta, burger\n",
            "The total amount to pay is Rs340\n"
          ]
        }
      ]
    }
  ]
}